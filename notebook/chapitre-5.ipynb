{
 "cells": [
  {
   "cell_type": "markdown",
   "id": "186470f1-c705-4c88-8b70-7c622145bce9",
   "metadata": {
    "jp-MarkdownHeadingCollapsed": true
   },
   "source": [
    "# Les stores\n",
    "\n",
    "Avant l'introduction des runes dans Svelte 5, les stores étaient la méthode idiomatique pour gérer l'état réactif en dehors des composants. Ce n'est plus le cas désormais, mais vous rencontrerez toujours les stores lors de l'utilisation de Svelte (y compris dans SvelteKit, pour l'instant), il est donc utile de savoir comment les utiliser.\n",
    "\n",
    "store.js\n",
    "```Javascript\n",
    "import { writable } from 'svelte/store';\n",
    "\n",
    "export const count = writable(0);\n",
    "```\n",
    "\n",
    "Counter.svelte\n",
    "```html\n",
    "<script>\n",
    "    import { count } from '../stores.js'\n",
    "</script>\n",
    "\n",
    "<button class=\"btn btn-primary\" onclick={e => count.update(count => count += 1)}>\n",
    "    <span>Click : </span>\n",
    "    <span>{$count}</span>\n",
    "</button>\n",
    "```\n",
    "CounterSubscribe.svelte\n",
    "```html\n",
    "<script>\n",
    "    import { count } from '../stores.js'\n",
    "\n",
    "    let value = $state(0)\n",
    "    count.subscribe(c => value = c)\n",
    "\n",
    "</script>\n",
    "\n",
    "<button class=\"btn btn-success\" onclick={e => count.update(count => count += 1)}>\n",
    "    <span>Click : </span>\n",
    "    <span>{value}</span>\n",
    "</button>\n",
    "```\n",
    "Reset.svelte\n",
    "```html\n",
    "<script>\n",
    "    import { count } from '../stores.js'\n",
    "</script>\n",
    "\n",
    "<button class=\"btn btn-danger\" onclick={e => count.set(0)}>\n",
    "    <span>Reset : </span>\n",
    "    <span>{$count}</span>\n",
    "</button>\n",
    "```\n",
    "app.svelte\n",
    "```html\n",
    "<script>\n",
    "    import Counter from './lib/Counter.svelte'\n",
    "    import CounterSubscribe from './lib/CounterSubscribe.svelte'\n",
    "    import Reset from './lib/Reset.svelte'\n",
    "</script>\n",
    "\n",
    "<Counter></Counter>\n",
    "<Counter></Counter>\n",
    "<Counter></Counter>\n",
    "<hr>\n",
    "<Reset></Reset>\n",
    "<hr>\n",
    "<CounterSubscribe></CounterSubscribe>\n",
    "```"
   ]
  }
 ],
 "metadata": {
  "kernelspec": {
   "display_name": "Python 3 (ipykernel)",
   "language": "python",
   "name": "python3"
  },
  "language_info": {
   "codemirror_mode": {
    "name": "ipython",
    "version": 3
   },
   "file_extension": ".py",
   "mimetype": "text/x-python",
   "name": "python",
   "nbconvert_exporter": "python",
   "pygments_lexer": "ipython3",
   "version": "3.9.2"
  }
 },
 "nbformat": 4,
 "nbformat_minor": 5
}
