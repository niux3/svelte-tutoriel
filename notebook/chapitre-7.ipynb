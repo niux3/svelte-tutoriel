{
 "cells": [
  {
   "cell_type": "markdown",
   "id": "3ce9a40b-0f9b-46a8-ae56-7d8e14677e6c",
   "metadata": {},
   "source": [
    "# lifecycle\n",
    "\n",
    "Dans certaines applications, il y a des actions qui doivent être exécutées lorsqu’un composant est ajouté ou retiré du DOM. Il existe également des situations où des actions doivent être effectuées avant ou après la mise à jour d’un composant. Svelte prend en charge cela en permettant l’enregistrement de fonctions qui seront appelées lorsque quatre événements spécifiques surviennent dans le cycle de vie d’une instance de composant :\n",
    "\n",
    "- Lorsqu’il est monté (ajouté au DOM)\n",
    "- Avant qu’il ne soit mis à jour\n",
    "- Après qu’il ait été mis à jour\n",
    "- Lorsqu’il est détruit (retiré du DOM)\n",
    "\n",
    "Un composant est \"mis à jour\" si l’une de ses props change ou si l’une de ses variables d’état change. Rappelons que les variables d’état sont des variables de niveau supérieur dans un composant, utilisées dans son HTML. **Attention**, Si vous utilisez le système de runes, beforeUpdate et afterUpdate ne seront plus utilisables. Il faudra utiliser la rune $effect et $effect.pre\n",
    "\n",
    "Demo.svelte\n",
    "```html\n",
    "<script>\n",
    "    import {onDestroy, onMount} from 'svelte'\n",
    "    \n",
    "    let color = $state('red');\n",
    "    function toggleColor() {\n",
    "        color = color === 'red' ? 'blue' : 'red';\n",
    "    }\n",
    "    onMount(() => console.log('mounted', color));\n",
    "    // beforeUpdate(() => console.log('before update'));\n",
    "    // afterUpdate(() => console.log('after update'));\n",
    "    $effect.pre(()=>{\n",
    "        console.log('before update', color)\n",
    "    })\n",
    "    $effect(()=>{\n",
    "        console.log('after update', color)\n",
    "    })\n",
    "    onDestroy(() => console.log('destroyed', color));\n",
    "</script>\n",
    "\n",
    "<button class=\"btn\" onclick={toggleColor} style:color={color}>Demo</button>\n",
    "```\n",
    "\n",
    "App.svelte\n",
    "```html\n",
    "<script>\n",
    "    import Demo from './Demo.svelte';\n",
    "    \n",
    "    let show = $state(false);\n",
    "</script>\n",
    "\n",
    "<label>\n",
    "    <input type=\"checkbox\" bind:checked={show}>\n",
    "    Show\n",
    "</label>\n",
    "{#if show}\n",
    "    <Demo />\n",
    "{/if}\n",
    "```"
   ]
  }
 ],
 "metadata": {
  "kernelspec": {
   "display_name": "Python 3 (ipykernel)",
   "language": "python",
   "name": "python3"
  },
  "language_info": {
   "codemirror_mode": {
    "name": "ipython",
    "version": 3
   },
   "file_extension": ".py",
   "mimetype": "text/x-python",
   "name": "python",
   "nbconvert_exporter": "python",
   "pygments_lexer": "ipython3",
   "version": "3.9.2"
  }
 },
 "nbformat": 4,
 "nbformat_minor": 5
}
